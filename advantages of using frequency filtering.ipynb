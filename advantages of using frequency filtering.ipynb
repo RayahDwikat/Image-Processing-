{
 "cells": [
  {
   "cell_type": "markdown",
   "metadata": {},
   "source": [
    "Advantages of frequency filtering:\n",
    "\n",
    "    Frequency filtering is much more efficient in convolving images with large kernels.\n",
    "    It also useful in the reverse process of 'deconvolution',\n",
    "    for example when the output image and the Point Spread Function (PSF) are known,\n",
    "    and the input image needs to be reconstructed.\n",
    "    Similar as the forward convolution may be processed by a multiplication of the frequency components of the imageand the PSF,\n",
    "    the deconvolution can be processed by dividing the frequency components of the output image with \n",
    "    the corresponding PSF components in the frequency domain.\n",
    "    In this reverse process one should be careful how to handle frequency components of the PSF which are near zero,\n",
    "    as they will blow-up the noise from your input image into large artifacts in your reconstructed image.\n",
    "    There are many methods available to regularize such deconvolutions."
   ]
  },
  {
   "cell_type": "code",
   "execution_count": null,
   "metadata": {
    "collapsed": true
   },
   "outputs": [],
   "source": []
  }
 ],
 "metadata": {
  "kernelspec": {
   "display_name": "Python 3",
   "language": "python",
   "name": "python3"
  },
  "language_info": {
   "codemirror_mode": {
    "name": "ipython",
    "version": 3
   },
   "file_extension": ".py",
   "mimetype": "text/x-python",
   "name": "python",
   "nbconvert_exporter": "python",
   "pygments_lexer": "ipython3",
   "version": "3.6.1"
  }
 },
 "nbformat": 4,
 "nbformat_minor": 2
}
