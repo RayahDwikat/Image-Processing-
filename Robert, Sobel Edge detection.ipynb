{
 "cells": [
  {
   "cell_type": "code",
   "execution_count": 4,
   "metadata": {
    "collapsed": true
   },
   "outputs": [],
   "source": [
    "import numpy as np\n",
    "import matplotlib.pyplot as plt\n",
    "\n",
    "from skimage.data import camera\n",
    "from skimage.filters import roberts, sobel, scharr\n",
    "\n",
    "\n",
    "image = camera()\n",
    "edge_roberts = roberts(image)\n",
    "edge_sobel = sobel(image)\n",
    "\n",
    "fig, (ax0, ax1) = plt.subplots(ncols=2)\n",
    "\n",
    "ax0.imshow(edge_roberts, cmap=plt.cm.gray)\n",
    "ax0.set_title('Roberts Edge Detection')\n",
    "ax0.axis('off')\n",
    "\n",
    "ax1.imshow(edge_sobel, cmap=plt.cm.gray)\n",
    "ax1.set_title('Sobel Edge Detection')\n",
    "ax1.axis('off')\n",
    "\n",
    "plt.tight_layout()"
   ]
  },
  {
   "cell_type": "code",
   "execution_count": null,
   "metadata": {
    "collapsed": true
   },
   "outputs": [],
   "source": []
  }
 ],
 "metadata": {
  "kernelspec": {
   "display_name": "Python 3",
   "language": "python",
   "name": "python3"
  },
  "language_info": {
   "codemirror_mode": {
    "name": "ipython",
    "version": 3
   },
   "file_extension": ".py",
   "mimetype": "text/x-python",
   "name": "python",
   "nbconvert_exporter": "python",
   "pygments_lexer": "ipython3",
   "version": "3.6.1"
  }
 },
 "nbformat": 4,
 "nbformat_minor": 2
}
